{
 "cells": [
  {
   "cell_type": "markdown",
   "metadata": {},
   "source": [
    "# Advent of Code Day 1"
   ]
  },
  {
   "cell_type": "code",
   "execution_count": 5,
   "metadata": {},
   "outputs": [
    {
     "name": "stdout",
     "output_type": "stream",
     "text": [
      "hello world day 1\n"
     ]
    }
   ],
   "source": [
    "from day_1 import hello_world_day_1_thing\n",
    "\n",
    "\n",
    "hello_world_day_1_thing()\n"
   ]
  },
  {
   "cell_type": "code",
   "execution_count": 3,
   "metadata": {},
   "outputs": [
    {
     "data": {
      "text/plain": [
       "['1abc2', 'pqr3stu8vwx', 'a1b2c3d4e5f', 'treb7uchet']"
      ]
     },
     "execution_count": 3,
     "metadata": {},
     "output_type": "execute_result"
    }
   ],
   "source": [
    "# Test parsing\n",
    "\n",
    "from aocp import (\n",
    "    CustomTransform,\n",
    "    SortTransform,\n",
    "    MapTransform,\n",
    "    ReplaceTransform,\n",
    "    IntParser,\n",
    "    IntListParser,\n",
    "    BoolParser,\n",
    "    ChainParser,\n",
    "    ListParser,\n",
    "    SetParser,\n",
    "    TupleParser,\n",
    "    DictParser,\n",
    ")\n",
    "\n",
    "with open('input.txt', 'r') as file:\n",
    "    raw_data = file.read()\n",
    "\n",
    "# raw_data = \"\"\" \n",
    "# 1abc2\n",
    "# pqr3stu8vwx\n",
    "# a1b2c3d4e5f\n",
    "# treb7uchet\n",
    "# \"\"\"\n",
    "\n",
    "parser = ListParser()\n",
    "\n",
    "parser.parse(raw_data)"
   ]
  }
 ],
 "metadata": {
  "kernelspec": {
   "display_name": ".venv",
   "language": "python",
   "name": "python3"
  },
  "language_info": {
   "codemirror_mode": {
    "name": "ipython",
    "version": 3
   },
   "file_extension": ".py",
   "mimetype": "text/x-python",
   "name": "python",
   "nbconvert_exporter": "python",
   "pygments_lexer": "ipython3",
   "version": "3.12.4"
  }
 },
 "nbformat": 4,
 "nbformat_minor": 2
}
